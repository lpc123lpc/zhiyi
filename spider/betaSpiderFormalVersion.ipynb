{
 "cells": [
  {
   "cell_type": "markdown",
   "metadata": {},
   "source": [
    "# 爬取新闻资讯"
   ]
  },
  {
   "cell_type": "code",
   "execution_count": 2,
   "metadata": {
    "ExecuteTime": {
     "end_time": "2021-05-28T11:06:05.336989Z",
     "start_time": "2021-05-28T11:06:05.330053Z"
    }
   },
   "outputs": [],
   "source": [
    "from bs4 import BeautifulSoup\n",
    "import requests\n",
    "import html\n",
    "import re"
   ]
  },
  {
   "cell_type": "code",
   "execution_count": 20,
   "metadata": {
    "ExecuteTime": {
     "end_time": "2021-05-28T11:58:07.344862Z",
     "start_time": "2021-05-28T11:58:05.957689Z"
    }
   },
   "outputs": [
    {
     "name": "stdout",
     "output_type": "stream",
     "text": [
      "0\n",
      "有图像！\n",
      "0\n",
      "1\n",
      "有图像！\n",
      "1\n",
      "2\n",
      "没有图像！\n",
      "2\n",
      "3\n",
      "没有图像！\n",
      "3\n",
      "4\n",
      "有图像！\n",
      "4\n",
      "5\n",
      "没有图像！\n",
      "5\n",
      "6\n",
      "没有图像！\n",
      "6\n",
      "7\n",
      "有图像！\n",
      "7\n",
      "8\n",
      "有图像！\n",
      "8\n",
      "9\n",
      "有图像！\n",
      "9\n",
      "10\n",
      "有图像！\n",
      "10\n",
      "11\n",
      "有图像！\n",
      "11\n",
      "12\n",
      "有图像！\n",
      "12\n",
      "13\n",
      "有图像！\n",
      "13\n",
      "14\n",
      "没有图像！\n",
      "14\n",
      "15\n",
      "没有图像！\n",
      "15\n",
      "16\n",
      "有图像！\n",
      "16\n",
      "17\n",
      "没有图像！\n",
      "17\n",
      "18\n",
      "没有图像！\n",
      "18\n",
      "19\n",
      "有图像！\n",
      "19\n",
      "{0: {'tittle': '5月27日江苏新增境外输入新冠肺炎确诊病例1例', 'href': 'http://news.haiwainet.cn/n/2021/0528/c3541083-32113869.html?nojump=1', 'info': '中新网南京5月28日电 (记者 朱晓颖)江苏省卫生健康委员会28日公布,27日0-24时,江苏新增境外输入确诊病例1例(巴拿马输入,在苏州市定点医院治疗)。截至27日24时,江苏全省累计报告确诊病例726例(其中境外输入95例),除11例境外输入确诊...', 'source': '人民日报海外网', 'updateTime': '21分钟前', 'imgUrl': 'https://dss0.bdstatic.com/6Ox1bjeh1BF3odCf/it/u=1631756988,1656075843&fm=217&app=2&size=f242,162&n=0&g=0n&f=JPEG?s=AE726085C4113BDC0CB4CD850300A08B&sec=1622289486&t=c12513a54c5856e087e539efe1a7928e'}, 1: {'tittle': '奥运会开幕前夕 日本希望再次延长新冠肺炎紧急状态至6月20日', 'href': 'http://news.haiwainet.cn/n/2021/0528/c3541083-32113930.html?nojump=1', 'info': '中国日报网5月28日电(妮思娜) 据路透社报道,一位日本内阁部长28日表示,日本正寻求将东京和其他地区的紧急状态延长约三周至6月20日。距离东京夏季奥运会开幕的时间只剩不到两个月,日本新冠疫情仍没有缓解的迹象。 ', 'source': '人民日报海外网', 'updateTime': '16分钟前', 'imgUrl': 'https://dss0.bdstatic.com/6Ox1bjeh1BF3odCf/it/u=1631756988,1656075843&fm=217&app=2&size=f242,162&n=0&g=0n&f=JPEG?s=AE726085C4113BDC0CB4CD850300A08B&sec=1622289486&t=c12513a54c5856e087e539efe1a7928e'}, 2: {'tittle': '中国发布丨商务部:新冠肺炎疫情暴发以来已与外资企业、外国商会...', 'href': 'http://new.qq.com/omn/ENT20190/20210528A01XOB00.html', 'info': '中国发布丨商务部:新冠肺炎疫情暴发以来已与外资企业、外国商会开展对话超100场,中国网5月28日讯(记者 吴佳潼)5月27日,商务部举行新闻发布会,商务部新闻发言人高峰表示,自去年新冠肺炎疫情暴发以来,商务部已经与外资企业和外国商会开展...', 'source': '腾讯网', 'updateTime': '11小时前'}, 3: {'tittle': '印度新增208921例新冠肺炎确诊病例,新增4157例新冠肺炎死亡病例。', 'href': 'http://dy.163.com/article/GB0HLS2B0529LJQL.html', 'info': '印度新增208921例新冠肺炎确诊病例,新增4157例新冠肺炎死亡病例。特别声明:以上内容(如有图片或视频亦包括在内)为自媒体平台“网易号”用户上传并发布,本平台仅提供信息存储服务。', 'source': '网易新闻', 'updateTime': '昨天11:18'}, 4: {'tittle': '全球日增确诊超58万例 上万美国人接种完疫苗后感染新冠', 'href': 'http://new.qq.com/omn/ENT20190/20210527A016ES00.html', 'info': '海外网5月27日电根据Worldometer实时统计数据,截至北京时间5月27日6时30分左右,全球累计确诊新冠肺炎病例169044557例,累计死亡3511102例。全球单日新增确诊病例585674例,新增死亡病例13244例。', 'source': '腾讯网', 'updateTime': '昨天08:24', 'imgUrl': 'https://dss1.bdstatic.com/6OF1bjeh1BF3odCf/it/u=3073018002,1028339784&fm=217&app=2&size=f242,162&n=0&g=0n&f=JPEG?s=F7089809069271D241A9449A030070E1&sec=1622289486&t=01199594191020bbdde70f686c9ee9b4'}, 5: {'tittle': '国际关注!中国科研团队又获新冠肺炎新成果,参编世界卫生组织标准!', 'href': 'http://dy.163.com/article/GB22S4RG0534HPNF.html', 'info': '北京师范大学全球变化与公共健康研究中心田怀玉团队联合哈佛大学、宾夕法尼亚州立大学等中外8个机构合作,评估了在新冠肺炎(COVID-19)大流行期间,社会经济条件和文化背景在中国城市尺度(358个城市)和全球国家尺度(121个国家)对人口流动性...', 'source': '网易新闻', 'updateTime': '18小时前'}, 6: {'tittle': '商务部:新冠肺炎疫情暴发以来已与外资企业、外国商会开展对话超...', 'href': 'https://view.inews.qq.com/a/20210528A0408S00', 'info': '中国网5月28日讯(记者 吴佳潼)5月27日,商务部举行新闻发布会,商务部新闻发言人高峰表示,自去年新冠肺炎疫情暴发以来,商务部已经与外资企业和外国商会开展对话交流活动超过100场,累计参会的外资企业超过了1800家,由外贸外资协调机制重点外...', 'updateTime': '8小时前'}, 7: {'tittle': '拜登宣布美国将增加2000万剂新冠肺炎疫苗分享给海外', 'href': 'https://world.huanqiu.com/article/43ALh3MVIJV', 'info': '美国总统拜登当地时间5月17日宣布,除了此前承诺的在7月4日前分享6000万剂阿斯利康新冠肺炎疫苗给其它国家以外,美国将增加2000万剂疫苗,包括莫德纳、辉瑞、强生和阿斯利康四个公司生产的共8000万剂疫苗将经过联邦监管机构的批准再运往...', 'source': '环球网', 'updateTime': '10天前', 'imgUrl': 'https://dss2.bdstatic.com/6Ot1bjeh1BF3odCf/it/u=636086351,3135892871&fm=217&app=2&size=f242,162&n=0&g=0n&f=JPEG?s=B1978F70702E2B0FF0A03DC10300A0B9&sec=1622289486&t=c7c621ecb4436f9e58a25ab42b9b4d45'}, 8: {'tittle': '沈佳欣转战海外喊冤,再谈钟南山事件,对新冠肺炎称呼令人愤怒!', 'href': 'https://www.sohu.com/a/468065806_121071680', 'info': '现如今,2020年即将过去,这一年对于很多人来说,都是充满意外和悲情的,尤其是新冠病毒的爆发,让无数人的生活都受到了影响。但是在全国人民的众志成城下,终于战胜了疫情,使社会重新步入了正轨,其中钟南山院士做出了突出的贡献。 对于钟...', 'source': '搜狐网', 'updateTime': '4天前', 'imgUrl': 'https://dss2.bdstatic.com/6Ot1bjeh1BF3odCf/it/u=2750423553,3400721041&fm=217&app=2&size=f242,162&n=0&g=0n&f=JPEG?s=5C002FD05033398CEE3D4D6F0300B053&sec=1622289486&t=b5e9d3f746dec930007040c461a79fb5'}, 9: {'tittle': '抗新冠药物雾化吸入即可生效:直接在肺脏表面提供保护、加速研发', 'href': 'https://news.mydrivers.com/1/759/759781.htm', 'info': '目前抗新冠药物做成了冻干粉剂,可长期储存,雾化吸入,直接在肺脏表面提供保护。 新冠病毒虽在变异,但它的受体并没有变化,因此这款药物对变异病毒也是有效的。如果临床试验在国外进行,一年内上市的可能性是有的。 ', 'source': '快科技', 'updateTime': '2小时前', 'imgUrl': 'https://dss2.bdstatic.com/6Ot1bjeh1BF3odCf/it/u=1482304319,4290436758&fm=217&app=2&size=f242,162&n=0&g=0n&f=PNG?s=D3941989846301014EA4ECD3030080B1&sec=1622289486&t=fcb666f4d49236823e06703fa5e2d004'}, 10: {'tittle': '河南省新增1例新冠肺炎确诊病例和1例无症状感染者 均为境外输入', 'href': 'https://china.huanqiu.com/article/438ryKJzLOh', 'info': '天问一号探测器成功着陆火星,国外有人的反应有意思了 俄媒:俄女子企图骗取斯大林亲戚340万卢布,被提起刑事诉讼 新加坡樟宜监狱一厨师长确诊新冠肺炎 约5000人接受检测 美国空军力促老型“全球鹰”无人机退役 专家:美国重视无人机的战场...', 'source': '环球网', 'updateTime': '5月16日', 'imgUrl': 'https://dss0.bdstatic.com/6Ox1bjeh1BF3odCf/it/u=636086351,3135892871&fm=217&app=2&size=f242,162&n=0&g=0n&f=JPEG?s=B1978F70702E2B0FF0A03DC10300A0B9&sec=1622289486&t=c7c621ecb4436f9e58a25ab42b9b4d45'}, 11: {'tittle': '上海昨日无新增本地新冠肺炎确诊病例,新增境外输入3例,治愈出院3例', 'href': 'https://world.huanqiu.com/article/435WalwDanG', 'info': '天问一号探测器成功着陆火星,国外有人的反应有意思了 俄媒:俄女子企图骗取斯大林亲戚340万卢布,被提起刑事诉讼 新加坡樟宜监狱一厨师长确诊新冠肺炎 约5000人接受检测 美国空军力促老型“全球鹰”无人机退役 专家:美国重视无人机的战场...', 'source': '环球网', 'updateTime': '5月12日', 'imgUrl': 'https://dss1.bdstatic.com/6OF1bjeh1BF3odCf/it/u=636086351,3135892871&fm=217&app=2&size=f242,162&n=0&g=0n&f=JPEG?s=B1978F70702E2B0FF0A03DC10300A0B9&sec=1622289486&t=c7c621ecb4436f9e58a25ab42b9b4d45'}, 12: {'tittle': '澳门新增1例输入性新冠肺炎确诊病例_接种', 'href': 'https://www.sohu.com/a/468339517_162522', 'info': '澳门特区政府新冠病毒感染应变协调中心24日晚间表示,一名5月19日入境曾到国外的澳门居民当天核酸检测呈弱阳性,被列为澳门第51例新冠肺炎输入性被列为输入性新冠肺炎无症状病例,为澳门第51例确诊病例。该患…', 'source': '搜狐网', 'updateTime': '3天前', 'imgUrl': 'https://dss0.bdstatic.com/6Ox1bjeh1BF3odCf/it/u=2474793855,788568420&fm=217&app=2&size=f242,162&n=0&g=0n&f=JPG?s=B71014C740158DCE761CAD3F0300904B&sec=1622289486&t=0c5d3f3d29b7557fdec8ab1dcd634d9b'}, 13: {'tittle': '兄弟同心,其利断金——写在六国外长合作应对新冠肺炎疫情会议之后', 'href': 'http://www.thepaper.cn/newsDetail_forward_12454955', 'info': '4月27日,中国、斯里兰卡、阿富汗、巴基斯坦、尼泊尔、孟加拉国六国外长举行合作应对新冠肺炎疫情视频会议并发表联合声明。在全球面临新冠肺炎新一波疫情冲击、南亚地区疫情迅速恶化的背景下,中国和南亚五国外长举行此次会议,十分必要和及时。一...', 'source': '澎湃新闻', 'updateTime': '4月29日', 'imgUrl': 'https://dss2.bdstatic.com/6Ot1bjeh1BF3odCf/it/u=2148319884,1883231559&fm=217&app=2&size=f242,162&n=0&g=0n&f=JPEG?s=FC8549945C13F8DA02929E910300D08D&sec=1622289486&t=d12912c8a714c3ef37e539be97139fd5'}, 14: {'tittle': '新冠病毒在国外是否发生了变异 国内病毒也发生了变异吗', 'href': 'https://www.fh21.com.cn/neike/xgfy/gaikuang/6843643_2.html', 'info': '迄今为止在国内,新冠状病毒侵入神经系统等报道还没有出现,但病毒失去嗅觉和味觉,在国外不是个案。 据韩国KBS电视台报道,韩国大邱地区在家等待住院治疗的新冠肺炎确诊患者中,15%的患者失去嗅觉和味觉的调查对象扩大到住院治疗的患者中,出现...', 'source': '复禾健康', 'updateTime': '8天前'}, 15: {'tittle': '尼泊尔政客投身于权力斗争无视新冠肺炎患者', 'href': 'http://www.wyzxwk.com/Article/guoji/2021/05/434884.html', 'info': '(华中师范大学国外马克思主义政党研究中心 舒惠千 编译) 【编者按】该文选自英国左翼网站《晨星报》在5月13日的刊文,讲述了近几日尼泊尔新冠肺炎疫情的爆发情况和其政治局势的变化,反应了人民对政府的失望与不信任。 ', 'source': '乌有之乡网刊', 'updateTime': '8天前'}, 16: {'tittle': '全球累计新冠确诊病例超1.53亿例,疫情印制了石油需求,我们看看...', 'href': 'https://new.qq.com/omn/20210505/20210505A03ML300.html', 'info': '据约翰斯·霍普金斯大学的疫情追踪数据,截至北京时间5月5日上午8点30分,全球累计确诊新冠肺炎病例153936070例,累计死亡3222446例。 北美 0830【拜登宣布在7月4日前确保70%美国成年人接种至少1剂新冠疫苗】 ...', 'source': '腾讯网', 'updateTime': '5月5日', 'imgUrl': 'https://dss0.bdstatic.com/6Ox1bjeh1BF3odCf/it/u=3980346234,1246327204&fm=217&app=2&size=f242,162&n=0&g=0n&f=JPEG?s=51FAA177533473921271D1F203008021&sec=1622289486&t=a25362c7d03095f8da69179a61871e7a'}, 17: {'tittle': '2021年5月18日全球新冠肺炎(COVID-19)疫情简报,日新增52.6万,全球...', 'href': 'https://www.medsci.cn/article/show_article.do?id=876a21148e9b', 'info': 'Worldometers世界实时统计数据显示,截至北京时间2021年5月18日7时01分,全球累计确诊新冠肺炎(COVID-19)病例超过16425万例,新增526,469例,达到164,256,457例。累计死亡病例超340.3万例,达到3,403,730例,新增死亡为10,334例。康复为...', 'source': '梅斯医学', 'updateTime': '10天前'}, 18: {'tittle': '深圳市盐田区新增一例境外输入关联新冠肺炎无症状感染者', 'href': 'https://i.ifeng.com/c/86SKMXw7zjO', 'info': '深圳市盐田区新冠肺炎疫情防控指挥部通告:5月22日,深圳市盐田区新增一例境外输入关联新冠肺炎无症状感染者,系在对5月21日确诊无症状感染者穆某相关重点人群进行排查时发现。初步排查,许某与穆某曾登临同一艘国际货轮共同作业,近14天...', 'source': '手机凤凰网', 'updateTime': '6天前'}, 19: {'tittle': '安徽新冠肺炎确诊3例,省疾控中心发布紧急提醒!', 'href': 'http://www.thepaper.cn/newsDetail_forward_12675656', 'info': '截至5月14日0时40分,安徽合肥肥西县报告新增新冠肺炎确诊病例2例,一例为此前通报的辽宁大连飞至安徽合肥的病例李某某,另一例为李某某同事。加上安徽六安市报告的1例新冠肺炎确诊病例,安徽省新冠肺炎确诊病例升至3例。', 'source': '澎湃新闻', 'updateTime': '5月14日', 'imgUrl': 'https://dss1.bdstatic.com/6OF1bjeh1BF3odCf/it/u=124801404,1694926931&fm=217&app=2&size=f242,162&n=0&g=0n&f=JPEG?s=DB2693444465490B01B978C1030040B2&sec=1622289486&t=702b14a6e2e61c7520a48fc13e082ed8'}}\n",
      "写入文件成功！\n"
     ]
    }
   ],
   "source": [
    "headers = {\n",
    "\t\t'user-agent': 'Mozilla/5.0 (Windows NT 10.0; Win64; x64) AppleWebKit/537.36 (KHTML, like Gecko) Chrome/90.0.4430.93 Safari/537.36'\n",
    "\t}\n",
    "url=\"https://www.baidu.com/s?ie=utf-8&medium=1&rtt=1&bsst=1&rsv_dl=news_t_sk&cl=2&wd=%E6%96%B0%E5%86%A0%E8%82%BA%E7%82%8E+%E5%9B%BD%E5%A4%96&rn=20&tn=news&rsv_bp=1&rsv_sug3=1&oq=&rsv_btype=t&f=8&rsv_sug4=673\"\n",
    "response=requests.get(url=url,headers=headers)\n",
    "soup=BeautifulSoup(response.text)\n",
    "items=soup.find_all(\"div\",class_=\"result-op c-container xpath-log new-pmd\")\n",
    "\n",
    "dataInDict={}\n",
    "\"\"\"\n",
    "index: \n",
    "tittle: \n",
    "href: \n",
    "info: \n",
    "source:\n",
    "updateTime:\n",
    "imgUrl:\n",
    "\"\"\"\n",
    "\n",
    "for index, item in enumerate(items):\n",
    "    dataItem={}\n",
    "    print(index)\n",
    "    if(len(item.find_all(\"div\",class_=\"c-span3 img-margin-bottom_BzjMI\"))!=0):\n",
    "        print(\"有图像！\")\n",
    "        itemHeader=item.div.h3.a\n",
    "        tittle=\"\".join(list(itemHeader.strings))\n",
    "        dataItem[\"tittle\"]=tittle\n",
    "        dataItem[\"href\"]=itemHeader[\"href\"]\n",
    "        itemContent=item.div.div.contents\n",
    "        itemSourceTimeBody=itemContent[1].div\n",
    "        info=\"\".join(list(itemContent[1].contents[1].strings))\n",
    "        dataItem[\"info\"]=info\n",
    "        mgsSources=itemSourceTimeBody.find_all(\"span\")\n",
    "        for sourceInfo in mgsSources:\n",
    "            if sourceInfo[\"class\"][0]==\"c-color-gray\":\n",
    "                source=sourceInfo.string\n",
    "                dataItem[\"source\"]=source\n",
    "            elif  sourceInfo[\"class\"][0]==\"c-color-gray2\":\n",
    "                updateTime=sourceInfo.string\n",
    "                dataItem[\"updateTime\"]=updateTime\n",
    "        \"\"\"source=itemSourceTimeBody.find_all(\"span\")[0].string\n",
    "        dataItem[\"source\"]=source\n",
    "        updateTime=itemSourceTimeBody.find_all(\"span\")[1].string\n",
    "        dataItem[\"updateTime\"]=updateTime\"\"\"\n",
    "        imgUrl=itemContent[0].find(\"img\")[\"src\"]\n",
    "        dataItem[\"imgUrl\"]=imgUrl\n",
    "    else:\n",
    "        print(\"没有图像！\")\n",
    "        \"\"\"if index==6:\n",
    "            print(item.prettify())\"\"\"\n",
    "        itemHeader=item.div.h3.a\n",
    "        tittle=\"\".join(list(itemHeader.strings))\n",
    "        dataItem[\"tittle\"]=tittle\n",
    "        dataItem[\"href\"]=itemHeader[\"href\"]\n",
    "        itemBody=item.div.div.div.contents\n",
    "        info=\"\".join(list(itemBody[1].strings))\n",
    "        dataItem[\"info\"]=info\n",
    "        itemSourceTimeBody=itemBody[0]\n",
    "        mgsSources=itemSourceTimeBody.find_all(\"span\")\n",
    "        for sourceInfo in mgsSources:\n",
    "            if sourceInfo[\"class\"][0]==\"c-color-gray\":\n",
    "                source=sourceInfo.string\n",
    "                dataItem[\"source\"]=source\n",
    "            elif  sourceInfo[\"class\"][0]==\"c-color-gray2\":\n",
    "                updateTime=sourceInfo.string\n",
    "                dataItem[\"updateTime\"]=updateTime\n",
    "        \"\"\"   \n",
    "        source=itemSourceTimeBody.find_all(\"span\")[0].string\n",
    "        dataItem[\"source\"]=source\n",
    "        updateTime=itemSourceTimeBody.find_all(\"span\")[1].string\n",
    "        dataItem[\"updateTime\"]=updateTime\"\"\"\n",
    "        \n",
    "    print(index)\n",
    "    dataInDict[index]=dataItem\n",
    "print(dataInDict)\n",
    "path=\"baiduNewsDemo.json\"\n",
    "with open(path,mode=\"w\",encoding=\"utf-8\") as f:\n",
    "    json.dump(dataInDict,f)\n",
    "    print(\"写入文件成功！\")"
   ]
  },
  {
   "cell_type": "code",
   "execution_count": 21,
   "metadata": {
    "ExecuteTime": {
     "end_time": "2021-05-28T11:58:14.063535Z",
     "start_time": "2021-05-28T11:58:14.042553Z"
    }
   },
   "outputs": [
    {
     "data": {
      "text/plain": [
       "{'tittle': '5月27日江苏新增境外输入新冠肺炎确诊病例1例',\n",
       " 'href': 'http://news.haiwainet.cn/n/2021/0528/c3541083-32113869.html?nojump=1',\n",
       " 'info': '中新网南京5月28日电 (记者 朱晓颖)江苏省卫生健康委员会28日公布,27日0-24时,江苏新增境外输入确诊病例1例(巴拿马输入,在苏州市定点医院治疗)。截至27日24时,江苏全省累计报告确诊病例726例(其中境外输入95例),除11例境外输入确诊...',\n",
       " 'source': '人民日报海外网',\n",
       " 'updateTime': '21分钟前',\n",
       " 'imgUrl': 'https://dss0.bdstatic.com/6Ox1bjeh1BF3odCf/it/u=1631756988,1656075843&fm=217&app=2&size=f242,162&n=0&g=0n&f=JPEG?s=AE726085C4113BDC0CB4CD850300A08B&sec=1622289486&t=c12513a54c5856e087e539efe1a7928e'}"
      ]
     },
     "execution_count": 21,
     "metadata": {},
     "output_type": "execute_result"
    }
   ],
   "source": [
    "dataInDict[0]"
   ]
  }
 ],
 "metadata": {
  "kernelspec": {
   "display_name": "tfkernel",
   "language": "python",
   "name": "tf"
  },
  "language_info": {
   "codemirror_mode": {
    "name": "ipython",
    "version": 3
   },
   "file_extension": ".py",
   "mimetype": "text/x-python",
   "name": "python",
   "nbconvert_exporter": "python",
   "pygments_lexer": "ipython3",
   "version": "3.7.9"
  },
  "varInspector": {
   "cols": {
    "lenName": 16,
    "lenType": 16,
    "lenVar": 40
   },
   "kernels_config": {
    "python": {
     "delete_cmd_postfix": "",
     "delete_cmd_prefix": "del ",
     "library": "var_list.py",
     "varRefreshCmd": "print(var_dic_list())"
    },
    "r": {
     "delete_cmd_postfix": ") ",
     "delete_cmd_prefix": "rm(",
     "library": "var_list.r",
     "varRefreshCmd": "cat(var_dic_list()) "
    }
   },
   "types_to_exclude": [
    "module",
    "function",
    "builtin_function_or_method",
    "instance",
    "_Feature"
   ],
   "window_display": false
  }
 },
 "nbformat": 4,
 "nbformat_minor": 4
}
